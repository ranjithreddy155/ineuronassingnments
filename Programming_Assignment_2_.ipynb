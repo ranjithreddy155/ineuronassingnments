{
  "cells": [
    {
      "cell_type": "markdown",
      "metadata": {
        "id": "view-in-github",
        "colab_type": "text"
      },
      "source": [
        "<a href=\"https://colab.research.google.com/github/ranjithreddy155/ineuronassingnments/blob/main/Programming_Assignment_2_.ipynb\" target=\"_parent\"><img src=\"https://colab.research.google.com/assets/colab-badge.svg\" alt=\"Open In Colab\"/></a>"
      ]
    },
    {
      "cell_type": "markdown",
      "id": "08c66ea5",
      "metadata": {
        "id": "08c66ea5"
      },
      "source": [
        "## Programming Assignment_2\n",
        "-------------"
      ]
    },
    {
      "cell_type": "markdown",
      "id": "4e50cf42",
      "metadata": {
        "id": "4e50cf42"
      },
      "source": [
        "### 1. Write a Python program to convert kilometers to miles?\n"
      ]
    },
    {
      "cell_type": "code",
      "source": [
        "a = float(input(\"Enter the distance in kilometers:\"))\n",
        "print(f\"convert {a} km to miles:\", round(0.62137*a, 2))"
      ],
      "metadata": {
        "colab": {
          "base_uri": "https://localhost:8080/"
        },
        "id": "CX3gLoByn6YB",
        "outputId": "ece6f7e4-d729-4c85-c0b4-f6b768b976af"
      },
      "id": "CX3gLoByn6YB",
      "execution_count": 2,
      "outputs": [
        {
          "output_type": "stream",
          "name": "stdout",
          "text": [
            "Enter the distance in kilometers:3.6\n",
            "convert 3.6 km to miles: 2.24\n"
          ]
        }
      ]
    },
    {
      "cell_type": "markdown",
      "id": "0df4e6bf",
      "metadata": {
        "id": "0df4e6bf"
      },
      "source": [
        "### 2.Write a Python program to convert Celsius to Fahrenheit?"
      ]
    },
    {
      "cell_type": "code",
      "source": [
        "a = float(input(\"Enter the temperature in celcius:\"))\n",
        "print(f\"convert the temperature {a} celcius to Fahrenheit:\", 1.8 * a + 32)\n"
      ],
      "metadata": {
        "colab": {
          "base_uri": "https://localhost:8080/"
        },
        "id": "jzlob-NYp170",
        "outputId": "3b6d30b2-8a58-4b0b-f57f-5fe38257d029"
      },
      "id": "jzlob-NYp170",
      "execution_count": 3,
      "outputs": [
        {
          "output_type": "stream",
          "name": "stdout",
          "text": [
            "Enter the temperature in celcius:27\n",
            "convert the temperature 27.0 celcius to Fahrenheit: 80.6\n"
          ]
        }
      ]
    },
    {
      "cell_type": "markdown",
      "id": "46129b8e",
      "metadata": {
        "id": "46129b8e"
      },
      "source": [
        "### 3. Write a Python program to display calendar?\n"
      ]
    },
    {
      "cell_type": "code",
      "source": [
        "import calendar\n",
        "\n",
        "yy = int(input(\"Enter the year:\"))\n",
        "mm = int(input(\"Enter the month:\"))\n",
        "print(calendar.month(yy,mm))"
      ],
      "metadata": {
        "colab": {
          "base_uri": "https://localhost:8080/"
        },
        "id": "4n3zgkLZtBaS",
        "outputId": "c5e4abfe-7a62-441a-bc28-96fca053b836"
      },
      "id": "4n3zgkLZtBaS",
      "execution_count": 5,
      "outputs": [
        {
          "output_type": "stream",
          "name": "stdout",
          "text": [
            "Enter the year:2011\n",
            "Enter the month:04\n",
            "     April 2011\n",
            "Mo Tu We Th Fr Sa Su\n",
            "             1  2  3\n",
            " 4  5  6  7  8  9 10\n",
            "11 12 13 14 15 16 17\n",
            "18 19 20 21 22 23 24\n",
            "25 26 27 28 29 30\n",
            "\n"
          ]
        }
      ]
    },
    {
      "cell_type": "code",
      "source": [],
      "metadata": {
        "id": "OSXHa3fbskmf"
      },
      "id": "OSXHa3fbskmf",
      "execution_count": null,
      "outputs": []
    },
    {
      "cell_type": "markdown",
      "id": "db2bf0f7",
      "metadata": {
        "id": "db2bf0f7"
      },
      "source": [
        "### 4. Write a Python program to solve quadratic equation?"
      ]
    },
    {
      "cell_type": "code",
      "source": [
        "# Solution for quadratic equation of a*x**2 + b*x + c = 0\n",
        "\n",
        "a = int(input(\"Enter the number a:\"))\n",
        "b = int(input(\"Enter the number b:\"))\n",
        "c = int(input(\"Enter the number c:\"))\n",
        "\n",
        "d = (-b + (b ** 2 - 4 * a * c) ** 0.5) / (2 * a)\n",
        "e = (-b - (b ** 2 - 4 * a * c) ** 0.5) / (2 * a)\n",
        "print(f\"the solutions are:\", [d,e])\n",
        "\n"
      ],
      "metadata": {
        "colab": {
          "base_uri": "https://localhost:8080/"
        },
        "id": "0NGh-4Vht-S8",
        "outputId": "f2f864d4-83e5-4661-e4eb-712b4b5ff617"
      },
      "id": "0NGh-4Vht-S8",
      "execution_count": 10,
      "outputs": [
        {
          "output_type": "stream",
          "name": "stdout",
          "text": [
            "Enter the number a:5\n",
            "Enter the number b:3\n",
            "Enter the number c:4\n",
            "the solutions are: [(-0.29999999999999993+0.8426149773176359j), (-0.30000000000000004-0.8426149773176359j)]\n"
          ]
        }
      ]
    },
    {
      "cell_type": "markdown",
      "id": "f70f74c9",
      "metadata": {
        "id": "f70f74c9"
      },
      "source": [
        "### 5. Write a Python program to swap two variables without temp variable?"
      ]
    },
    {
      "cell_type": "code",
      "source": [
        "x = int(input(\"Enter the number a:\"))\n",
        "y = int(input(\"Enter the number b:\"))\n",
        "x,y = y,x\n",
        "print(f\"after swaping the numbers ares:\", x , y  )"
      ],
      "metadata": {
        "colab": {
          "base_uri": "https://localhost:8080/"
        },
        "id": "zVvC6GBOw9To",
        "outputId": "50455abb-d6ce-4061-afc3-66f08dc4f80a"
      },
      "id": "zVvC6GBOw9To",
      "execution_count": 13,
      "outputs": [
        {
          "output_type": "stream",
          "name": "stdout",
          "text": [
            "Enter the number a:9\n",
            "Enter the number b:5\n",
            "after swaping the numbers ares: 5 9\n"
          ]
        }
      ]
    },
    {
      "cell_type": "code",
      "source": [],
      "metadata": {
        "id": "Wbff1NM3ySai"
      },
      "id": "Wbff1NM3ySai",
      "execution_count": null,
      "outputs": []
    }
  ],
  "metadata": {
    "kernelspec": {
      "display_name": "Python 3 (ipykernel)",
      "language": "python",
      "name": "python3"
    },
    "language_info": {
      "codemirror_mode": {
        "name": "ipython",
        "version": 3
      },
      "file_extension": ".py",
      "mimetype": "text/x-python",
      "name": "python",
      "nbconvert_exporter": "python",
      "pygments_lexer": "ipython3",
      "version": "3.9.12"
    },
    "colab": {
      "provenance": [],
      "include_colab_link": true
    }
  },
  "nbformat": 4,
  "nbformat_minor": 5
}