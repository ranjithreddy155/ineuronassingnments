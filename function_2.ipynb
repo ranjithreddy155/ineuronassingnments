{
  "nbformat": 4,
  "nbformat_minor": 0,
  "metadata": {
    "colab": {
      "provenance": [],
      "collapsed_sections": [],
      "authorship_tag": "ABX9TyN8yf2My7D+tzOMZ4SULoyw",
      "include_colab_link": true
    },
    "kernelspec": {
      "name": "python3",
      "display_name": "Python 3"
    },
    "language_info": {
      "name": "python"
    }
  },
  "cells": [
    {
      "cell_type": "markdown",
      "metadata": {
        "id": "view-in-github",
        "colab_type": "text"
      },
      "source": [
        "<a href=\"https://colab.research.google.com/github/ranjithreddy155/ineuronassingnments/blob/main/function_2.ipynb\" target=\"_parent\"><img src=\"https://colab.research.google.com/assets/colab-badge.svg\" alt=\"Open In Colab\"/></a>"
      ]
    },
    {
      "cell_type": "code",
      "execution_count": 1,
      "metadata": {
        "id": "ogTDM7o4O6YM"
      },
      "outputs": [],
      "source": [
        "def test2(a,b):\n",
        "  return a+b"
      ]
    },
    {
      "cell_type": "code",
      "source": [
        "test2(3,4)"
      ],
      "metadata": {
        "colab": {
          "base_uri": "https://localhost:8080/"
        },
        "id": "cddtCgIRPD0s",
        "outputId": "9be8e748-3afb-4c8e-8a19-a700abc3b891"
      },
      "execution_count": 2,
      "outputs": [
        {
          "output_type": "execute_result",
          "data": {
            "text/plain": [
              "7"
            ]
          },
          "metadata": {},
          "execution_count": 2
        }
      ]
    },
    {
      "cell_type": "code",
      "source": [
        "test2(\"ranjeth\", \"kumar\")"
      ],
      "metadata": {
        "colab": {
          "base_uri": "https://localhost:8080/",
          "height": 36
        },
        "id": "Wx8CJqxdPMTH",
        "outputId": "ec19137d-24c6-482c-9b95-71e000039e81"
      },
      "execution_count": 3,
      "outputs": [
        {
          "output_type": "execute_result",
          "data": {
            "text/plain": [
              "'ranjethkumar'"
            ],
            "application/vnd.google.colaboratory.intrinsic+json": {
              "type": "string"
            }
          },
          "metadata": {},
          "execution_count": 3
        }
      ]
    },
    {
      "cell_type": "code",
      "source": [
        "test2(a=\"ranjeth\", b=\"reddy\")"
      ],
      "metadata": {
        "colab": {
          "base_uri": "https://localhost:8080/",
          "height": 36
        },
        "id": "9qwNA5-qPSoD",
        "outputId": "63ef0d2f-4947-4d85-c4a7-3c16734966f2"
      },
      "execution_count": 4,
      "outputs": [
        {
          "output_type": "execute_result",
          "data": {
            "text/plain": [
              "'ranjethreddy'"
            ],
            "application/vnd.google.colaboratory.intrinsic+json": {
              "type": "string"
            }
          },
          "metadata": {},
          "execution_count": 4
        }
      ]
    },
    {
      "cell_type": "code",
      "source": [
        "def test3(*args):\n",
        "  return args"
      ],
      "metadata": {
        "id": "_WtLShd0PacF"
      },
      "execution_count": 5,
      "outputs": []
    },
    {
      "cell_type": "code",
      "source": [
        "test3(3,4)"
      ],
      "metadata": {
        "colab": {
          "base_uri": "https://localhost:8080/"
        },
        "id": "mwuEEMIbQGYP",
        "outputId": "9b7d279e-0b96-43f5-f1cf-fac6949601ac"
      },
      "execution_count": 6,
      "outputs": [
        {
          "output_type": "execute_result",
          "data": {
            "text/plain": [
              "(3, 4)"
            ]
          },
          "metadata": {},
          "execution_count": 6
        }
      ]
    },
    {
      "cell_type": "code",
      "source": [
        "test3(3,4,5,8,\"ranjeth\")"
      ],
      "metadata": {
        "colab": {
          "base_uri": "https://localhost:8080/"
        },
        "id": "IzWQdU-6QLoD",
        "outputId": "1f2b6483-c7aa-495f-943c-48f09ef14ced"
      },
      "execution_count": 7,
      "outputs": [
        {
          "output_type": "execute_result",
          "data": {
            "text/plain": [
              "(3, 4, 5, 8, 'ranjeth')"
            ]
          },
          "metadata": {},
          "execution_count": 7
        }
      ]
    },
    {
      "cell_type": "code",
      "source": [
        "type(test3)"
      ],
      "metadata": {
        "colab": {
          "base_uri": "https://localhost:8080/"
        },
        "id": "A3mC7RNVQRJh",
        "outputId": "f7de9566-ec87-4c19-d80e-89a3cf6b106b"
      },
      "execution_count": 8,
      "outputs": [
        {
          "output_type": "execute_result",
          "data": {
            "text/plain": [
              "function"
            ]
          },
          "metadata": {},
          "execution_count": 8
        }
      ]
    },
    {
      "cell_type": "code",
      "source": [
        "test3([8,3,4,3,8],\"ranjeth\",9+8j)"
      ],
      "metadata": {
        "colab": {
          "base_uri": "https://localhost:8080/"
        },
        "id": "BtM0rT7XQd9J",
        "outputId": "7c7c5c44-246e-4511-a586-052f5c9c572f"
      },
      "execution_count": 9,
      "outputs": [
        {
          "output_type": "execute_result",
          "data": {
            "text/plain": [
              "([8, 3, 4, 3, 8], 'ranjeth', (9+8j))"
            ]
          },
          "metadata": {},
          "execution_count": 9
        }
      ]
    },
    {
      "cell_type": "code",
      "source": [
        "def test4(*args):\n",
        "  return list(args)"
      ],
      "metadata": {
        "id": "ntPUMrrRQt0i"
      },
      "execution_count": 10,
      "outputs": []
    },
    {
      "cell_type": "code",
      "source": [
        "test4(3,4,5,8,\"ranjeth\",[8, 3, 4, 3, 8], 'ranjeth', (9+8j))"
      ],
      "metadata": {
        "colab": {
          "base_uri": "https://localhost:8080/"
        },
        "id": "a_jGeFAzRCoP",
        "outputId": "061e809f-ebac-4785-a115-f4025e604731"
      },
      "execution_count": 11,
      "outputs": [
        {
          "output_type": "execute_result",
          "data": {
            "text/plain": [
              "[3, 4, 5, 8, 'ranjeth', [8, 3, 4, 3, 8], 'ranjeth', (9+8j)]"
            ]
          },
          "metadata": {},
          "execution_count": 11
        }
      ]
    },
    {
      "cell_type": "code",
      "source": [
        "def test5(*args):\n",
        "  l = []\n",
        "  for i in args:\n",
        "    l.append(i)\n",
        "  return l"
      ],
      "metadata": {
        "id": "oQDZGE0WRMH1"
      },
      "execution_count": 12,
      "outputs": []
    },
    {
      "cell_type": "code",
      "source": [
        "test5(3,4,5,8,\"ranjeth\",[8, 3, 4, 3, 8], 'ranjeth', (9+8j))"
      ],
      "metadata": {
        "colab": {
          "base_uri": "https://localhost:8080/"
        },
        "id": "UeM9Xo21Rnzl",
        "outputId": "5c863218-7aa7-4b9a-ea52-0f968a827483"
      },
      "execution_count": 13,
      "outputs": [
        {
          "output_type": "execute_result",
          "data": {
            "text/plain": [
              "[3, 4, 5, 8, 'ranjeth', [8, 3, 4, 3, 8], 'ranjeth', (9+8j)]"
            ]
          },
          "metadata": {},
          "execution_count": 13
        }
      ]
    },
    {
      "cell_type": "code",
      "source": [
        "def test6(*ranje):\n",
        "  return list(ranje)"
      ],
      "metadata": {
        "id": "cq-V_Yw6Rukw"
      },
      "execution_count": 14,
      "outputs": []
    },
    {
      "cell_type": "code",
      "source": [
        "test6(3,4,5,8,\"ranjeth\",[8, 3, 4, 3, 8], 'ranjeth', (9+8j))"
      ],
      "metadata": {
        "colab": {
          "base_uri": "https://localhost:8080/"
        },
        "id": "kYTzLGrmR9CO",
        "outputId": "2a63dcc9-3f6e-4b55-c4bc-19e5d2659208"
      },
      "execution_count": 15,
      "outputs": [
        {
          "output_type": "execute_result",
          "data": {
            "text/plain": [
              "[3, 4, 5, 8, 'ranjeth', [8, 3, 4, 3, 8], 'ranjeth', (9+8j)]"
            ]
          },
          "metadata": {},
          "execution_count": 15
        }
      ]
    },
    {
      "cell_type": "code",
      "source": [],
      "metadata": {
        "id": "M-ss8beBSDZx"
      },
      "execution_count": null,
      "outputs": []
    },
    {
      "cell_type": "markdown",
      "source": [
        "Dictionary Data type"
      ],
      "metadata": {
        "id": "CM65zRrbSY_w"
      }
    },
    {
      "cell_type": "code",
      "source": [
        "l = [1,2,3,4,5,6]\n",
        "t = (4,5,6,2,2)\n",
        "s = {3,5,8,5,6,4,5,6,8}"
      ],
      "metadata": {
        "id": "2VjBx2yYSdRM"
      },
      "execution_count": 16,
      "outputs": []
    },
    {
      "cell_type": "code",
      "source": [
        "l"
      ],
      "metadata": {
        "colab": {
          "base_uri": "https://localhost:8080/"
        },
        "id": "rjiACctNS1Dv",
        "outputId": "48ecf744-23fd-4334-987c-99fda051e688"
      },
      "execution_count": 17,
      "outputs": [
        {
          "output_type": "execute_result",
          "data": {
            "text/plain": [
              "[1, 2, 3, 4, 5, 6]"
            ]
          },
          "metadata": {},
          "execution_count": 17
        }
      ]
    },
    {
      "cell_type": "code",
      "source": [
        "t"
      ],
      "metadata": {
        "colab": {
          "base_uri": "https://localhost:8080/"
        },
        "id": "5LsqF3YuS3KG",
        "outputId": "6504de90-5240-4d29-f169-cd01993e9cef"
      },
      "execution_count": 18,
      "outputs": [
        {
          "output_type": "execute_result",
          "data": {
            "text/plain": [
              "(4, 5, 6, 2, 2)"
            ]
          },
          "metadata": {},
          "execution_count": 18
        }
      ]
    },
    {
      "cell_type": "code",
      "source": [
        "s"
      ],
      "metadata": {
        "colab": {
          "base_uri": "https://localhost:8080/"
        },
        "id": "W5Y7LHGDS4nv",
        "outputId": "10d8938e-2468-4c89-8b90-1090e0aa4db1"
      },
      "execution_count": 19,
      "outputs": [
        {
          "output_type": "execute_result",
          "data": {
            "text/plain": [
              "{3, 4, 5, 6, 8}"
            ]
          },
          "metadata": {},
          "execution_count": 19
        }
      ]
    },
    {
      "cell_type": "code",
      "source": [
        "d = {}"
      ],
      "metadata": {
        "id": "LvB-4ruES6o7"
      },
      "execution_count": 20,
      "outputs": []
    },
    {
      "cell_type": "code",
      "source": [
        "type(d)"
      ],
      "metadata": {
        "colab": {
          "base_uri": "https://localhost:8080/"
        },
        "id": "DoIADOtbUDfY",
        "outputId": "a400c10c-06a0-49e7-eec2-502c6309a785"
      },
      "execution_count": 21,
      "outputs": [
        {
          "output_type": "execute_result",
          "data": {
            "text/plain": [
              "dict"
            ]
          },
          "metadata": {},
          "execution_count": 21
        }
      ]
    },
    {
      "cell_type": "code",
      "source": [
        "d1 = {2,3,4,5}"
      ],
      "metadata": {
        "id": "uzXm3xlFUGMH"
      },
      "execution_count": 22,
      "outputs": []
    },
    {
      "cell_type": "code",
      "source": [
        "type(d1)"
      ],
      "metadata": {
        "colab": {
          "base_uri": "https://localhost:8080/"
        },
        "id": "V_LQneB1ULN3",
        "outputId": "b5ca3f5d-be2b-4b45-843f-6146f7ff46d5"
      },
      "execution_count": 23,
      "outputs": [
        {
          "output_type": "execute_result",
          "data": {
            "text/plain": [
              "set"
            ]
          },
          "metadata": {},
          "execution_count": 23
        }
      ]
    },
    {
      "cell_type": "code",
      "source": [
        "d2 = {\"key1\":\"ranjeth\", \"key2\": {2,5,4,6}}"
      ],
      "metadata": {
        "id": "5gB0eNCYUOsx"
      },
      "execution_count": 24,
      "outputs": []
    },
    {
      "cell_type": "code",
      "source": [
        "d2"
      ],
      "metadata": {
        "colab": {
          "base_uri": "https://localhost:8080/"
        },
        "id": "Pv5iqJMhUjYH",
        "outputId": "84aa495c-3b0d-4e0e-a682-974dda9962df"
      },
      "execution_count": 25,
      "outputs": [
        {
          "output_type": "execute_result",
          "data": {
            "text/plain": [
              "{'key1': 'ranjeth', 'key2': {2, 4, 5, 6}}"
            ]
          },
          "metadata": {},
          "execution_count": 25
        }
      ]
    },
    {
      "cell_type": "code",
      "source": [
        "d2.keys()"
      ],
      "metadata": {
        "colab": {
          "base_uri": "https://localhost:8080/"
        },
        "id": "OLw9p8WtUkdc",
        "outputId": "492df660-ca28-41e5-db75-550bb0f8eea6"
      },
      "execution_count": 26,
      "outputs": [
        {
          "output_type": "execute_result",
          "data": {
            "text/plain": [
              "dict_keys(['key1', 'key2'])"
            ]
          },
          "metadata": {},
          "execution_count": 26
        }
      ]
    },
    {
      "cell_type": "code",
      "source": [
        "d2.values()"
      ],
      "metadata": {
        "colab": {
          "base_uri": "https://localhost:8080/"
        },
        "id": "vyZhhiFcUsed",
        "outputId": "c1f40d8c-4a74-450f-f8f3-c42d59ea8868"
      },
      "execution_count": 27,
      "outputs": [
        {
          "output_type": "execute_result",
          "data": {
            "text/plain": [
              "dict_values(['ranjeth', {2, 4, 5, 6}])"
            ]
          },
          "metadata": {},
          "execution_count": 27
        }
      ]
    },
    {
      "cell_type": "code",
      "source": [
        "d3 = {289282 : \"ranjet\"}"
      ],
      "metadata": {
        "id": "6QlKz0z7Uwxx"
      },
      "execution_count": 28,
      "outputs": []
    },
    {
      "cell_type": "code",
      "source": [
        "d3"
      ],
      "metadata": {
        "colab": {
          "base_uri": "https://localhost:8080/"
        },
        "id": "2K6qZp7YVWun",
        "outputId": "22f457a9-8778-43eb-b3e7-5845eb1c4882"
      },
      "execution_count": 29,
      "outputs": [
        {
          "output_type": "execute_result",
          "data": {
            "text/plain": [
              "{289282: 'ranjet'}"
            ]
          },
          "metadata": {},
          "execution_count": 29
        }
      ]
    },
    {
      "cell_type": "code",
      "source": [
        "d4 = {\"$ranje\": \"ranjet\"}"
      ],
      "metadata": {
        "id": "dHbqS-jNVX9X"
      },
      "execution_count": 30,
      "outputs": []
    },
    {
      "cell_type": "code",
      "source": [
        "d4"
      ],
      "metadata": {
        "colab": {
          "base_uri": "https://localhost:8080/"
        },
        "id": "ebpHcTLrVvSC",
        "outputId": "7a327d81-f791-4a2e-c63a-79999aeb5d5a"
      },
      "execution_count": 31,
      "outputs": [
        {
          "output_type": "execute_result",
          "data": {
            "text/plain": [
              "{'$ranje': 'ranjet'}"
            ]
          },
          "metadata": {},
          "execution_count": 31
        }
      ]
    },
    {
      "cell_type": "code",
      "source": [
        "d5 = {[4,5,6,2]: \"ranjet\"}"
      ],
      "metadata": {
        "colab": {
          "base_uri": "https://localhost:8080/",
          "height": 165
        },
        "id": "rjkFGsKuVwJx",
        "outputId": "9422c6c8-2931-4bcb-8c13-79e65f879d11"
      },
      "execution_count": 32,
      "outputs": [
        {
          "output_type": "error",
          "ename": "TypeError",
          "evalue": "ignored",
          "traceback": [
            "\u001b[0;31m---------------------------------------------------------------------------\u001b[0m",
            "\u001b[0;31mTypeError\u001b[0m                                 Traceback (most recent call last)",
            "\u001b[0;32m<ipython-input-32-3207ae88fe16>\u001b[0m in \u001b[0;36m<module>\u001b[0;34m\u001b[0m\n\u001b[0;32m----> 1\u001b[0;31m \u001b[0md5\u001b[0m \u001b[0;34m=\u001b[0m \u001b[0;34m{\u001b[0m\u001b[0;34m[\u001b[0m\u001b[0;36m4\u001b[0m\u001b[0;34m,\u001b[0m\u001b[0;36m5\u001b[0m\u001b[0;34m,\u001b[0m\u001b[0;36m6\u001b[0m\u001b[0;34m,\u001b[0m\u001b[0;36m2\u001b[0m\u001b[0;34m]\u001b[0m\u001b[0;34m:\u001b[0m \u001b[0;34m\"ranjet\"\u001b[0m\u001b[0;34m}\u001b[0m\u001b[0;34m\u001b[0m\u001b[0;34m\u001b[0m\u001b[0m\n\u001b[0m",
            "\u001b[0;31mTypeError\u001b[0m: unhashable type: 'list'"
          ]
        }
      ]
    },
    {
      "cell_type": "code",
      "source": [
        "d6 = {(1,2,5,6,8):\"ranje\"}"
      ],
      "metadata": {
        "id": "4NHUe9qKWM-N"
      },
      "execution_count": 33,
      "outputs": []
    },
    {
      "cell_type": "code",
      "source": [
        "d6"
      ],
      "metadata": {
        "colab": {
          "base_uri": "https://localhost:8080/"
        },
        "id": "lPA7npZxWaJK",
        "outputId": "af0463f8-3a9a-4c0f-cd3b-7e079b26bcc5"
      },
      "execution_count": 34,
      "outputs": [
        {
          "output_type": "execute_result",
          "data": {
            "text/plain": [
              "{(1, 2, 5, 6, 8): 'ranje'}"
            ]
          },
          "metadata": {},
          "execution_count": 34
        }
      ]
    },
    {
      "cell_type": "code",
      "source": [
        "d7 = {\"name\" : \"ranjeth\", \"org\" : \"ineuron\", \"maid id\" : \"ranjet@gmail.com\", \"name \": \"ranje\"}"
      ],
      "metadata": {
        "id": "W5k8YyhgWd7O"
      },
      "execution_count": 36,
      "outputs": []
    },
    {
      "cell_type": "code",
      "source": [
        "d7"
      ],
      "metadata": {
        "colab": {
          "base_uri": "https://localhost:8080/"
        },
        "id": "rWV3zJxzW9FG",
        "outputId": "9224f185-3f41-4833-90c7-882df7ae91ea"
      },
      "execution_count": 37,
      "outputs": [
        {
          "output_type": "execute_result",
          "data": {
            "text/plain": [
              "{'name': 'ranjeth',\n",
              " 'org': 'ineuron',\n",
              " 'maid id': 'ranjet@gmail.com',\n",
              " 'name ': 'ranje'}"
            ]
          },
          "metadata": {},
          "execution_count": 37
        }
      ]
    },
    {
      "cell_type": "code",
      "source": [
        "d8 = {\"name\": \"ranje\",  \"mentor\" : {\"fsds\":\"imran\", \"fsda\":\"anand\", \"bigdata\" : \"shashank\"}}"
      ],
      "metadata": {
        "id": "qs0m_2oZXIse"
      },
      "execution_count": 40,
      "outputs": []
    },
    {
      "cell_type": "code",
      "source": [
        "d8"
      ],
      "metadata": {
        "colab": {
          "base_uri": "https://localhost:8080/"
        },
        "id": "6_gehBnSX5Tw",
        "outputId": "b591b708-f1d8-4ee7-af9e-d2ed361fa641"
      },
      "execution_count": 41,
      "outputs": [
        {
          "output_type": "execute_result",
          "data": {
            "text/plain": [
              "{'name': 'ranje',\n",
              " 'mentor': {'fsds': 'imran', 'fsda': 'anand', 'bigdata': 'shashank'}}"
            ]
          },
          "metadata": {},
          "execution_count": 41
        }
      ]
    },
    {
      "cell_type": "code",
      "source": [
        "d8[\"mentor\"][\"bigdata\"]"
      ],
      "metadata": {
        "colab": {
          "base_uri": "https://localhost:8080/",
          "height": 36
        },
        "id": "QuztWQchYTfr",
        "outputId": "8edc0493-7e64-4e35-93dd-343a675de598"
      },
      "execution_count": 46,
      "outputs": [
        {
          "output_type": "execute_result",
          "data": {
            "text/plain": [
              "'shashank'"
            ],
            "application/vnd.google.colaboratory.intrinsic+json": {
              "type": "string"
            }
          },
          "metadata": {},
          "execution_count": 46
        }
      ]
    },
    {
      "cell_type": "code",
      "source": [
        "d8.items()"
      ],
      "metadata": {
        "colab": {
          "base_uri": "https://localhost:8080/"
        },
        "id": "XyCCCbL-YiDb",
        "outputId": "79587ae2-c79a-4e3a-bcef-43cf7e1d1534"
      },
      "execution_count": 47,
      "outputs": [
        {
          "output_type": "execute_result",
          "data": {
            "text/plain": [
              "dict_items([('name', 'ranje'), ('mentor', {'fsds': 'imran', 'fsda': 'anand', 'bigdata': 'shashank'})])"
            ]
          },
          "metadata": {},
          "execution_count": 47
        }
      ]
    },
    {
      "cell_type": "code",
      "source": [
        "list(d8[\"mentor\"].values())"
      ],
      "metadata": {
        "colab": {
          "base_uri": "https://localhost:8080/"
        },
        "id": "cdCXYYt7ZUce",
        "outputId": "1dfcfc42-cf45-4a8d-9191-604289febadc"
      },
      "execution_count": 50,
      "outputs": [
        {
          "output_type": "execute_result",
          "data": {
            "text/plain": [
              "['imran', 'anand', 'shashank']"
            ]
          },
          "metadata": {},
          "execution_count": 50
        }
      ]
    },
    {
      "cell_type": "code",
      "source": [
        "l = []\n",
        "for i in d8.keys():\n",
        "  if type(d8[i]) == dict:\n",
        "    l.append(list(d8[i].values()))"
      ],
      "metadata": {
        "id": "oh0XfBlAZwvZ"
      },
      "execution_count": 51,
      "outputs": []
    },
    {
      "cell_type": "code",
      "source": [
        "l"
      ],
      "metadata": {
        "colab": {
          "base_uri": "https://localhost:8080/"
        },
        "id": "_W7-39ilabZM",
        "outputId": "28462149-046d-485e-8692-55431f4c9e63"
      },
      "execution_count": 52,
      "outputs": [
        {
          "output_type": "execute_result",
          "data": {
            "text/plain": [
              "[['imran', 'anand', 'shashank']]"
            ]
          },
          "metadata": {},
          "execution_count": 52
        }
      ]
    },
    {
      "cell_type": "code",
      "source": [
        "d9 = {\"name\": \"ranje\",  \"mentor\" : {\"fsds\":\"imran\", \"fsda\":\"anand\", \"bigdata\" : \"shashank\"}, \"mail_id\":{\"imran\":\"imran@ineur\" , \"anand\":\"anand@hajhaj\"}}"
      ],
      "metadata": {
        "id": "1uP5_gFHada7"
      },
      "execution_count": 55,
      "outputs": []
    },
    {
      "cell_type": "code",
      "source": [
        "def test9():\n",
        "  l = []\n",
        "  for i in d9.keys():\n",
        "    if type(d9[i]) == dict:\n",
        "      l.append(list(d9[i].values()))\n",
        "      return l\n"
      ],
      "metadata": {
        "id": "9Yw9tzbYbaN7"
      },
      "execution_count": 69,
      "outputs": []
    },
    {
      "cell_type": "code",
      "source": [
        "test9()"
      ],
      "metadata": {
        "colab": {
          "base_uri": "https://localhost:8080/"
        },
        "id": "FG10wi2EcSvr",
        "outputId": "91a35195-8fd0-42fb-9c11-94eb330f61dd"
      },
      "execution_count": 70,
      "outputs": [
        {
          "output_type": "execute_result",
          "data": {
            "text/plain": [
              "[['imran', 'anand', 'shashank']]"
            ]
          },
          "metadata": {},
          "execution_count": 70
        }
      ]
    },
    {
      "cell_type": "code",
      "source": [
        "d8.pop()"
      ],
      "metadata": {
        "colab": {
          "base_uri": "https://localhost:8080/",
          "height": 165
        },
        "id": "S1DIOhVdccKu",
        "outputId": "37cd7d49-0d4a-438a-e9cc-501ab4f9a6ca"
      },
      "execution_count": 61,
      "outputs": [
        {
          "output_type": "error",
          "ename": "TypeError",
          "evalue": "ignored",
          "traceback": [
            "\u001b[0;31m---------------------------------------------------------------------------\u001b[0m",
            "\u001b[0;31mTypeError\u001b[0m                                 Traceback (most recent call last)",
            "\u001b[0;32m<ipython-input-61-6dedc1fcffad>\u001b[0m in \u001b[0;36m<module>\u001b[0;34m\u001b[0m\n\u001b[0;32m----> 1\u001b[0;31m \u001b[0md8\u001b[0m\u001b[0;34m.\u001b[0m\u001b[0mpop\u001b[0m\u001b[0;34m(\u001b[0m\u001b[0;34m)\u001b[0m\u001b[0;34m\u001b[0m\u001b[0;34m\u001b[0m\u001b[0m\n\u001b[0m",
            "\u001b[0;31mTypeError\u001b[0m: pop expected at least 1 arguments, got 0"
          ]
        }
      ]
    },
    {
      "cell_type": "code",
      "source": [
        "d8.pop(\"mentor\")"
      ],
      "metadata": {
        "colab": {
          "base_uri": "https://localhost:8080/"
        },
        "id": "Wu2rm95hcyyj",
        "outputId": "88db96c2-92fc-4791-bc02-9e85d9f7cb03"
      },
      "execution_count": 62,
      "outputs": [
        {
          "output_type": "execute_result",
          "data": {
            "text/plain": [
              "{'fsds': 'imran', 'fsda': 'anand', 'bigdata': 'shashank'}"
            ]
          },
          "metadata": {},
          "execution_count": 62
        }
      ]
    },
    {
      "cell_type": "code",
      "source": [
        "d8"
      ],
      "metadata": {
        "colab": {
          "base_uri": "https://localhost:8080/"
        },
        "id": "kh7wN_b3c4uP",
        "outputId": "e790a884-3c48-45cc-93dd-232c25d14158"
      },
      "execution_count": 63,
      "outputs": [
        {
          "output_type": "execute_result",
          "data": {
            "text/plain": [
              "{'name': 'ranje'}"
            ]
          },
          "metadata": {},
          "execution_count": 63
        }
      ]
    },
    {
      "cell_type": "code",
      "source": [
        "d8[\"fsds\"] = \"ranjeth\""
      ],
      "metadata": {
        "id": "2N_Ps3K3c_VY"
      },
      "execution_count": 64,
      "outputs": []
    },
    {
      "cell_type": "code",
      "source": [
        "d8"
      ],
      "metadata": {
        "colab": {
          "base_uri": "https://localhost:8080/"
        },
        "id": "0ifDKZy5dPs0",
        "outputId": "60e532a2-1476-4f20-8ee5-f7a1acabac2f"
      },
      "execution_count": 65,
      "outputs": [
        {
          "output_type": "execute_result",
          "data": {
            "text/plain": [
              "{'name': 'ranje', 'fsds': 'ranjeth'}"
            ]
          },
          "metadata": {},
          "execution_count": 65
        }
      ]
    },
    {
      "cell_type": "code",
      "source": [],
      "metadata": {
        "id": "Y3KiNrHLdQfh"
      },
      "execution_count": null,
      "outputs": []
    }
  ]
}