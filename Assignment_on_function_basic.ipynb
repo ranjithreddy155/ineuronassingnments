{
  "nbformat": 4,
  "nbformat_minor": 0,
  "metadata": {
    "colab": {
      "provenance": [],
      "collapsed_sections": [],
      "authorship_tag": "ABX9TyO8M/eIuumzU9gsP1aYWTQ3",
      "include_colab_link": true
    },
    "kernelspec": {
      "name": "python3",
      "display_name": "Python 3"
    },
    "language_info": {
      "name": "python"
    }
  },
  "cells": [
    {
      "cell_type": "markdown",
      "metadata": {
        "id": "view-in-github",
        "colab_type": "text"
      },
      "source": [
        "<a href=\"https://colab.research.google.com/github/ranjithreddy155/ineuronassingnments/blob/main/Assignment_on_function_basic.ipynb\" target=\"_parent\"><img src=\"https://colab.research.google.com/assets/colab-badge.svg\" alt=\"Open In Colab\"/></a>"
      ]
    },
    {
      "cell_type": "markdown",
      "source": [
        "1. write a function which will try to find out len of a string without using an inbuilt len function \n",
        "2. write a function which  will be able to print an index of list element without using an index function\n",
        "3. write a function which will be able to print an ip address of your system\n",
        "4. write a function which will shutdown your system\n",
        "5. write a function which will take input as a list with any kind of numeric value and give an out as a multiplication of \n",
        "all the numeric data l = [3.5, 6.56, 4,5,\"sudh\" , \"ineuron\" , 'fsda bootcamp 2.0']\n",
        "6. write a function which will be able to read all the mails \n",
        "7 . write a function which will be able to send a mail to anyone \n",
        "8. write a function which will be able to read a doc/word file from your system \n",
        "\n",
        "you are suppose to complete this by oct 30th before your \n",
        "live class and you have to send a solution at mail id - query@ineuron.ai\n",
        "submit your git link to mail "
      ],
      "metadata": {
        "id": "iEMtST7HeZ6f"
      }
    },
    {
      "cell_type": "code",
      "source": [],
      "metadata": {
        "id": "z_zbp1eQebDJ"
      },
      "execution_count": null,
      "outputs": []
    },
    {
      "cell_type": "markdown",
      "source": [
        "write a function which will try to find out len of a string without using an inbuilt len function"
      ],
      "metadata": {
        "id": "BukAUOAFgu2r"
      }
    },
    {
      "cell_type": "code",
      "source": [
        "l = \"ranjeth\"\n",
        "len(l)"
      ],
      "metadata": {
        "colab": {
          "base_uri": "https://localhost:8080/"
        },
        "id": "GwnNgjQqgwo7",
        "outputId": "20d388ea-1053-4503-e7d8-e40b51a11fac"
      },
      "execution_count": null,
      "outputs": [
        {
          "output_type": "execute_result",
          "data": {
            "text/plain": [
              "7"
            ]
          },
          "metadata": {},
          "execution_count": 1
        }
      ]
    },
    {
      "cell_type": "code",
      "source": [
        "count = 0\n",
        "for i in l:\n",
        "  if type(i)==str:\n",
        "   count = count + 1\n",
        "print(count)"
      ],
      "metadata": {
        "colab": {
          "base_uri": "https://localhost:8080/"
        },
        "id": "_bHgdjIxhKkz",
        "outputId": "93dfc408-8dfc-4ca2-9591-d2534e30cf3b"
      },
      "execution_count": null,
      "outputs": [
        {
          "output_type": "stream",
          "name": "stdout",
          "text": [
            "7\n"
          ]
        }
      ]
    },
    {
      "cell_type": "code",
      "source": [
        "def length(l):\n",
        "  count = 0\n",
        "  for i in l:\n",
        "    count = count + 1\n",
        "  return(count)"
      ],
      "metadata": {
        "id": "m0Mk1Valita8"
      },
      "execution_count": null,
      "outputs": []
    },
    {
      "cell_type": "code",
      "source": [
        "length(\"ranjethkumar\")"
      ],
      "metadata": {
        "colab": {
          "base_uri": "https://localhost:8080/"
        },
        "id": "Ozm87cU8jh13",
        "outputId": "dc24a209-b9c3-4759-f9d7-13fbcd3e91ad"
      },
      "execution_count": null,
      "outputs": [
        {
          "output_type": "execute_result",
          "data": {
            "text/plain": [
              "12"
            ]
          },
          "metadata": {},
          "execution_count": 11
        }
      ]
    },
    {
      "cell_type": "code",
      "source": [
        "l2=\"ranjethkumarreddy\"\n",
        "length(l2)"
      ],
      "metadata": {
        "colab": {
          "base_uri": "https://localhost:8080/"
        },
        "id": "euTEB73cjnbs",
        "outputId": "3ce3dd1c-cad7-43ed-e4aa-bdf25a8ae3e5"
      },
      "execution_count": null,
      "outputs": [
        {
          "output_type": "execute_result",
          "data": {
            "text/plain": [
              "17"
            ]
          },
          "metadata": {},
          "execution_count": 12
        }
      ]
    },
    {
      "cell_type": "code",
      "source": [],
      "metadata": {
        "id": "fNJ0nNJBj3Ec"
      },
      "execution_count": null,
      "outputs": []
    },
    {
      "cell_type": "markdown",
      "source": [
        "write a function which will be able to print an index of list element without using an index function"
      ],
      "metadata": {
        "id": "m4PUiQ4VkuPN"
      }
    },
    {
      "cell_type": "code",
      "source": [
        "l1 = [1,2,4,6,7,8]\n",
        "l1.index(2)\n"
      ],
      "metadata": {
        "colab": {
          "base_uri": "https://localhost:8080/"
        },
        "id": "gZucD_fakvZs",
        "outputId": "30ae3e35-26e4-40e7-a5a8-5ed1c1616dca"
      },
      "execution_count": null,
      "outputs": [
        {
          "output_type": "execute_result",
          "data": {
            "text/plain": [
              "1"
            ]
          },
          "metadata": {},
          "execution_count": 11
        }
      ]
    },
    {
      "cell_type": "code",
      "source": [
        "x=input(\"Enter the element in the list\")\n",
        "for i in range(len(l1)):\n",
        "  if a == l1[i]:\n",
        "    print(i)\n",
        "    \n"
      ],
      "metadata": {
        "colab": {
          "base_uri": "https://localhost:8080/"
        },
        "id": "K7dL_nyooo6o",
        "outputId": "ea825b85-22f1-4c04-8f4a-5ab0012f2a07"
      },
      "execution_count": null,
      "outputs": [
        {
          "output_type": "stream",
          "name": "stdout",
          "text": [
            "0 1\n",
            "1 2\n",
            "2 4\n",
            "3 6\n",
            "4 7\n",
            "5 8\n"
          ]
        }
      ]
    },
    {
      "cell_type": "code",
      "source": [
        "def id(l1):\n",
        "  count = 0\n",
        " for i in range(len(l1)):\n",
        "   count = count + 1\n",
        "    a= l1[i]\n",
        "    return(i, a)"
      ],
      "metadata": {
        "id": "bcekuzmKpsc1",
        "colab": {
          "base_uri": "https://localhost:8080/",
          "height": 130
        },
        "outputId": "0d7bf14d-05a8-4d8a-8b81-5487bdea3436"
      },
      "execution_count": null,
      "outputs": [
        {
          "output_type": "error",
          "ename": "IndentationError",
          "evalue": "ignored",
          "traceback": [
            "\u001b[0;36m  File \u001b[0;32m\"<tokenize>\"\u001b[0;36m, line \u001b[0;32m3\u001b[0m\n\u001b[0;31m    for i in range(len(l1)):\u001b[0m\n\u001b[0m    ^\u001b[0m\n\u001b[0;31mIndentationError\u001b[0m\u001b[0;31m:\u001b[0m unindent does not match any outer indentation level\n"
          ]
        }
      ]
    },
    {
      "cell_type": "code",
      "source": [
        "id(l1)"
      ],
      "metadata": {
        "id": "aL6Dsm5RqKzo",
        "colab": {
          "base_uri": "https://localhost:8080/"
        },
        "outputId": "ec007401-8de5-4537-91d5-d673f0897d12"
      },
      "execution_count": null,
      "outputs": [
        {
          "output_type": "execute_result",
          "data": {
            "text/plain": [
              "(0, 1)"
            ]
          },
          "metadata": {},
          "execution_count": 8
        }
      ]
    },
    {
      "cell_type": "code",
      "source": [],
      "metadata": {
        "id": "neIbKyOJCRip"
      },
      "execution_count": null,
      "outputs": []
    },
    {
      "cell_type": "markdown",
      "source": [
        "write a function which will be able to print an ip address of your system"
      ],
      "metadata": {
        "id": "jAqHCfHNEXO5"
      }
    },
    {
      "cell_type": "code",
      "source": [],
      "metadata": {
        "id": "XU2KbA97EYRc"
      },
      "execution_count": null,
      "outputs": []
    },
    {
      "cell_type": "markdown",
      "source": [
        "write a function which will take input as a list with any kind of numeric value and give an out as a multiplication of all the numeric data l = [3.5, 6.56, 4,5,\"sudh\" , \"ineuron\" , 'fsda bootcamp 2.0']"
      ],
      "metadata": {
        "id": "iPnN1TufrpxI"
      }
    },
    {
      "cell_type": "code",
      "source": [
        "l3 = [3.5, 6.56, 4,5,\"sudh\" , \"ineuron\" , 'fsda bootcamp 2.0']\n",
        "x = 1\n",
        "for i in l3:\n",
        "  if (type(i)==int or type(i)==float):\n",
        "     x = i*x\n",
        "print(x)\n"
      ],
      "metadata": {
        "colab": {
          "base_uri": "https://localhost:8080/"
        },
        "id": "XwuHoPusrq-F",
        "outputId": "3f808ff1-e973-4480-ea41-ea1d707ea27b"
      },
      "execution_count": 4,
      "outputs": [
        {
          "output_type": "stream",
          "name": "stdout",
          "text": [
            "459.19999999999993\n"
          ]
        }
      ]
    },
    {
      "cell_type": "code",
      "source": [
        "l3 = [3.5, 6.56, 4,5,\"sudh\" , \"ineuron\" , 'fsda bootcamp 2.0']\n",
        "def multi(l3):\n",
        "  x = 1\n",
        "  for i in l3:\n",
        "    if (type(i)==int or type(i)==float):\n",
        "      x = i*x\n",
        "  return (x)"
      ],
      "metadata": {
        "id": "H-sW_hXbsoNr"
      },
      "execution_count": 12,
      "outputs": []
    },
    {
      "cell_type": "code",
      "source": [
        "multi(l3)"
      ],
      "metadata": {
        "colab": {
          "base_uri": "https://localhost:8080/"
        },
        "id": "NGUw1in8uGFc",
        "outputId": "13e85284-c43c-4c65-9e01-ee2087e03b0f"
      },
      "execution_count": 13,
      "outputs": [
        {
          "output_type": "execute_result",
          "data": {
            "text/plain": [
              "459.19999999999993"
            ]
          },
          "metadata": {},
          "execution_count": 13
        }
      ]
    },
    {
      "cell_type": "code",
      "source": [
        "l2 = [3.5, 6.56, 4,5,6.5,4.8,\"sudh\" , \"ineuron\" , 'fsda bootcamp 2.0']"
      ],
      "metadata": {
        "id": "lDHiufOJuQc7"
      },
      "execution_count": 14,
      "outputs": []
    },
    {
      "cell_type": "code",
      "source": [
        "multi(l2)"
      ],
      "metadata": {
        "colab": {
          "base_uri": "https://localhost:8080/"
        },
        "id": "W6PlHp6auZMr",
        "outputId": "470226e3-6a79-49e9-b241-303d4a35067b"
      },
      "execution_count": 15,
      "outputs": [
        {
          "output_type": "execute_result",
          "data": {
            "text/plain": [
              "14327.039999999999"
            ]
          },
          "metadata": {},
          "execution_count": 15
        }
      ]
    },
    {
      "cell_type": "code",
      "source": [],
      "metadata": {
        "id": "6Onm6PQWucct"
      },
      "execution_count": null,
      "outputs": []
    },
    {
      "cell_type": "markdown",
      "source": [
        "write a function which will be able to read all the mails 7 . write a function which will be able to send a mail to anyone"
      ],
      "metadata": {
        "id": "mVgW1pLKutie"
      }
    },
    {
      "cell_type": "code",
      "source": [
        "\n"
      ],
      "metadata": {
        "id": "b-CUyjtwuwC0"
      },
      "execution_count": null,
      "outputs": []
    }
  ]
}