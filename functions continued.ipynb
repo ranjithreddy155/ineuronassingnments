{
 "cells": [
  {
   "cell_type": "code",
   "execution_count": 27,
   "id": "00880286-345a-4caa-b5bc-aca53ba8dc2b",
   "metadata": {},
   "outputs": [],
   "source": [
    "def test1(func):\n",
    "    def test2():\n",
    "        print(\"i am inside test2\")\n",
    "        func()\n",
    "        print(func())\n",
    "        print(\"function executed\")\n",
    "        return func()\n",
    "    return test2"
   ]
  },
  {
   "cell_type": "code",
   "execution_count": 28,
   "id": "d8162f32-9d71-4842-8186-50b27a31b8c8",
   "metadata": {},
   "outputs": [],
   "source": [
    "@test1\n",
    "def test3():\n",
    "    print(\"this is my test3\")"
   ]
  },
  {
   "cell_type": "code",
   "execution_count": 29,
   "id": "f02755b9-1086-44d0-975a-a58b4865ff8c",
   "metadata": {},
   "outputs": [
    {
     "name": "stdout",
     "output_type": "stream",
     "text": [
      "i am inside test2\n",
      "this is my test3\n",
      "this is my test3\n",
      "None\n",
      "function executed\n",
      "this is my test3\n"
     ]
    }
   ],
   "source": [
    "test3()"
   ]
  },
  {
   "cell_type": "code",
   "execution_count": 30,
   "id": "fc77ffc3-1b29-47fc-aa8d-957d074141ae",
   "metadata": {},
   "outputs": [
    {
     "name": "stdout",
     "output_type": "stream",
     "text": [
      "i am inside test2\n",
      "this is my test3\n",
      "this is my test3\n",
      "None\n",
      "function executed\n",
      "this is my test3\n"
     ]
    },
    {
     "data": {
      "text/plain": [
       "<function __main__.test1.<locals>.test2()>"
      ]
     },
     "execution_count": 30,
     "metadata": {},
     "output_type": "execute_result"
    }
   ],
   "source": [
    "test1(test3())"
   ]
  },
  {
   "cell_type": "code",
   "execution_count": 31,
   "id": "d81cf7cd-80bd-4d20-b4f1-a52ffbb0e125",
   "metadata": {},
   "outputs": [],
   "source": [
    "@test1\n",
    "def test4():\n",
    "    return 5+6"
   ]
  },
  {
   "cell_type": "code",
   "execution_count": 32,
   "id": "5e697f93-0f09-4746-9137-a8330945f368",
   "metadata": {},
   "outputs": [
    {
     "name": "stdout",
     "output_type": "stream",
     "text": [
      "i am inside test2\n",
      "11\n",
      "function executed\n"
     ]
    },
    {
     "data": {
      "text/plain": [
       "int"
      ]
     },
     "execution_count": 32,
     "metadata": {},
     "output_type": "execute_result"
    }
   ],
   "source": [
    "type(test4())"
   ]
  },
  {
   "cell_type": "code",
   "execution_count": 33,
   "id": "966793e5-e5e6-4206-af8a-740fe45a2e3d",
   "metadata": {},
   "outputs": [
    {
     "name": "stdout",
     "output_type": "stream",
     "text": [
      "i am inside test2\n",
      "11\n",
      "function executed\n"
     ]
    }
   ],
   "source": [
    "a = test4()"
   ]
  },
  {
   "cell_type": "code",
   "execution_count": 34,
   "id": "5307ff9a-a5cd-43dd-80b0-be41d2aba6c7",
   "metadata": {},
   "outputs": [
    {
     "data": {
      "text/plain": [
       "11"
      ]
     },
     "execution_count": 34,
     "metadata": {},
     "output_type": "execute_result"
    }
   ],
   "source": [
    "a"
   ]
  },
  {
   "cell_type": "code",
   "execution_count": 35,
   "id": "a6a9a184-2f12-46af-9e68-49738b3db58c",
   "metadata": {},
   "outputs": [
    {
     "name": "stdout",
     "output_type": "stream",
     "text": [
      "11\n"
     ]
    }
   ],
   "source": [
    "print(a)"
   ]
  },
  {
   "cell_type": "code",
   "execution_count": 36,
   "id": "474991f6-b617-4448-b322-11b01fccb762",
   "metadata": {},
   "outputs": [
    {
     "name": "stdout",
     "output_type": "stream",
     "text": [
      "i am inside test2\n",
      "11\n",
      "function executed\n"
     ]
    },
    {
     "data": {
      "text/plain": [
       "23"
      ]
     },
     "execution_count": 36,
     "metadata": {},
     "output_type": "execute_result"
    }
   ],
   "source": [
    "test4() + 12"
   ]
  },
  {
   "cell_type": "code",
   "execution_count": 24,
   "id": "d19bad9e-6d7d-4c7e-92f1-b69b0de71cf4",
   "metadata": {},
   "outputs": [],
   "source": [
    "def test5():\n",
    "    return 4+5"
   ]
  },
  {
   "cell_type": "code",
   "execution_count": 25,
   "id": "46fd3e78-10dc-4ba4-b5a8-d63ae0c25eae",
   "metadata": {},
   "outputs": [
    {
     "data": {
      "text/plain": [
       "int"
      ]
     },
     "execution_count": 25,
     "metadata": {},
     "output_type": "execute_result"
    }
   ],
   "source": [
    "type(test5())"
   ]
  },
  {
   "cell_type": "code",
   "execution_count": 37,
   "id": "3590a998-8cbb-4a36-b754-15805a2970aa",
   "metadata": {},
   "outputs": [
    {
     "data": {
      "text/plain": [
       "87"
      ]
     },
     "execution_count": 37,
     "metadata": {},
     "output_type": "execute_result"
    }
   ],
   "source": [
    "test5() + 78"
   ]
  },
  {
   "cell_type": "code",
   "execution_count": 56,
   "id": "820e96b0-444f-42d9-ac67-f2dff00614a9",
   "metadata": {},
   "outputs": [],
   "source": [
    "def test6(func):\n",
    "    def test7():\n",
    "        func()\n",
    "        print(func())\n",
    "        print(\"this is my decorator function\")\n",
    "        return func()\n",
    "    return test7"
   ]
  },
  {
   "cell_type": "code",
   "execution_count": 57,
   "id": "39b920ac-7f1e-4df5-bddc-496994494e8c",
   "metadata": {},
   "outputs": [],
   "source": [
    "def test8():\n",
    "    return 5+7"
   ]
  },
  {
   "cell_type": "code",
   "execution_count": 58,
   "id": "37b01d66-048d-4da1-a7e1-e205009351ec",
   "metadata": {},
   "outputs": [
    {
     "data": {
      "text/plain": [
       "27"
      ]
     },
     "execution_count": 58,
     "metadata": {},
     "output_type": "execute_result"
    }
   ],
   "source": [
    "test8() + 15"
   ]
  },
  {
   "cell_type": "code",
   "execution_count": 59,
   "id": "ce92c330-a7e8-44f2-94fc-df91b10259dc",
   "metadata": {},
   "outputs": [],
   "source": [
    "@test6\n",
    "def test8():\n",
    "    return 5+7"
   ]
  },
  {
   "cell_type": "code",
   "execution_count": 60,
   "id": "72fa46ad-118b-4660-8d9d-e86e3dce11a6",
   "metadata": {},
   "outputs": [
    {
     "name": "stdout",
     "output_type": "stream",
     "text": [
      "12\n",
      "this is my decorator function\n"
     ]
    },
    {
     "data": {
      "text/plain": [
       "12"
      ]
     },
     "execution_count": 60,
     "metadata": {},
     "output_type": "execute_result"
    }
   ],
   "source": [
    "test8()"
   ]
  },
  {
   "cell_type": "code",
   "execution_count": 61,
   "id": "83aa46df-50a0-4eae-ae34-f2f3cc2e0bb8",
   "metadata": {},
   "outputs": [
    {
     "name": "stdout",
     "output_type": "stream",
     "text": [
      "12\n",
      "this is my decorator function\n"
     ]
    },
    {
     "data": {
      "text/plain": [
       "112"
      ]
     },
     "execution_count": 61,
     "metadata": {},
     "output_type": "execute_result"
    }
   ],
   "source": [
    "test8() + 100"
   ]
  },
  {
   "cell_type": "code",
   "execution_count": 62,
   "id": "f2b3be22-52da-43ae-9654-0ed85904ff6e",
   "metadata": {},
   "outputs": [
    {
     "name": "stdout",
     "output_type": "stream",
     "text": [
      "12\n",
      "this is my decorator function\n"
     ]
    },
    {
     "data": {
      "text/plain": [
       "int"
      ]
     },
     "execution_count": 62,
     "metadata": {},
     "output_type": "execute_result"
    }
   ],
   "source": [
    "type(test8())"
   ]
  },
  {
   "cell_type": "code",
   "execution_count": 64,
   "id": "0b4bb895-b30a-41b4-9eb5-7024e90e0ab0",
   "metadata": {},
   "outputs": [],
   "source": [
    "def test6(func):\n",
    "    def test7():\n",
    "        func()\n",
    "        print(func())\n",
    "        print(\"this is my decorator function\")\n",
    "        return func()\n",
    "    return test7"
   ]
  },
  {
   "cell_type": "code",
   "execution_count": 68,
   "id": "e403db3b-7fe3-456a-adba-8c2d7a5f8c7e",
   "metadata": {},
   "outputs": [],
   "source": [
    "@test6\n",
    "def test8(a,b):\n",
    "    return a+b"
   ]
  },
  {
   "cell_type": "code",
   "execution_count": 69,
   "id": "c7303492-33e6-46e8-b7f8-716bc03728da",
   "metadata": {},
   "outputs": [
    {
     "ename": "TypeError",
     "evalue": "test8() missing 2 required positional arguments: 'a' and 'b'",
     "output_type": "error",
     "traceback": [
      "\u001b[0;31m---------------------------------------------------------------------------\u001b[0m",
      "\u001b[0;31mTypeError\u001b[0m                                 Traceback (most recent call last)",
      "Cell \u001b[0;32mIn [69], line 1\u001b[0m\n\u001b[0;32m----> 1\u001b[0m \u001b[43mtest8\u001b[49m\u001b[43m(\u001b[49m\u001b[43m)\u001b[49m\n",
      "Cell \u001b[0;32mIn [64], line 3\u001b[0m, in \u001b[0;36mtest6.<locals>.test7\u001b[0;34m()\u001b[0m\n\u001b[1;32m      2\u001b[0m \u001b[38;5;28;01mdef\u001b[39;00m \u001b[38;5;21mtest7\u001b[39m():\n\u001b[0;32m----> 3\u001b[0m     \u001b[43mfunc\u001b[49m\u001b[43m(\u001b[49m\u001b[43m)\u001b[49m\n\u001b[1;32m      4\u001b[0m     \u001b[38;5;28mprint\u001b[39m(func())\n\u001b[1;32m      5\u001b[0m     \u001b[38;5;28mprint\u001b[39m(\u001b[38;5;124m\"\u001b[39m\u001b[38;5;124mthis is my decorator function\u001b[39m\u001b[38;5;124m\"\u001b[39m)\n",
      "\u001b[0;31mTypeError\u001b[0m: test8() missing 2 required positional arguments: 'a' and 'b'"
     ]
    }
   ],
   "source": [
    "test8()"
   ]
  },
  {
   "cell_type": "code",
   "execution_count": 70,
   "id": "e5d0183d-1f3c-4a5f-b9e6-fef88b705d7f",
   "metadata": {},
   "outputs": [
    {
     "ename": "TypeError",
     "evalue": "test6.<locals>.test7() takes 0 positional arguments but 2 were given",
     "output_type": "error",
     "traceback": [
      "\u001b[0;31m---------------------------------------------------------------------------\u001b[0m",
      "\u001b[0;31mTypeError\u001b[0m                                 Traceback (most recent call last)",
      "Cell \u001b[0;32mIn [70], line 1\u001b[0m\n\u001b[0;32m----> 1\u001b[0m \u001b[43mtest8\u001b[49m\u001b[43m(\u001b[49m\u001b[38;5;124;43m\"\u001b[39;49m\u001b[38;5;124;43mranjeth\u001b[39;49m\u001b[38;5;124;43m\"\u001b[39;49m\u001b[43m,\u001b[49m\u001b[43m \u001b[49m\u001b[38;5;124;43m\"\u001b[39;49m\u001b[38;5;124;43mkumar\u001b[39;49m\u001b[38;5;124;43m\"\u001b[39;49m\u001b[43m)\u001b[49m\n",
      "\u001b[0;31mTypeError\u001b[0m: test6.<locals>.test7() takes 0 positional arguments but 2 were given"
     ]
    }
   ],
   "source": [
    "test8(\"ranjeth\", \"kumar\")"
   ]
  },
  {
   "cell_type": "code",
   "execution_count": 83,
   "id": "3ca57c03-cbaa-4148-8a5d-c1ed26e3d99a",
   "metadata": {},
   "outputs": [],
   "source": [
    "def test6(func):\n",
    "    def test7(*args,**kwargs):\n",
    "        func(*args,**kwargs)\n",
    "        print(func(*args,**kwargs))\n",
    "        print(\"this is my decorator function\")\n",
    "        return func(*args,**kwargs)\n",
    "    return test7"
   ]
  },
  {
   "cell_type": "code",
   "execution_count": 84,
   "id": "b285f21d-5c90-41b5-907c-cfb73c801bbf",
   "metadata": {},
   "outputs": [],
   "source": [
    "@test6\n",
    "def test8(a,b):\n",
    "    return a+b"
   ]
  },
  {
   "cell_type": "code",
   "execution_count": 85,
   "id": "e382f8f0-e06c-40db-88e8-adb140ffe558",
   "metadata": {},
   "outputs": [
    {
     "name": "stdout",
     "output_type": "stream",
     "text": [
      "ranjethkumar\n",
      "this is my decorator function\n"
     ]
    },
    {
     "data": {
      "text/plain": [
       "'ranjethkumar'"
      ]
     },
     "execution_count": 85,
     "metadata": {},
     "output_type": "execute_result"
    }
   ],
   "source": [
    "test8(\"ranjeth\", \"kumar\")"
   ]
  },
  {
   "cell_type": "code",
   "execution_count": 86,
   "id": "370c1e8c-b838-439b-a6af-ad6ba6f03418",
   "metadata": {},
   "outputs": [],
   "source": [
    "@test6\n",
    "def test8(a,b,c):\n",
    "    return a+b+c"
   ]
  },
  {
   "cell_type": "code",
   "execution_count": 87,
   "id": "687c618e-a122-4d16-931c-0174ce242405",
   "metadata": {},
   "outputs": [
    {
     "name": "stdout",
     "output_type": "stream",
     "text": [
      "ranjethkumarreddy\n",
      "this is my decorator function\n"
     ]
    },
    {
     "data": {
      "text/plain": [
       "'ranjethkumarreddy'"
      ]
     },
     "execution_count": 87,
     "metadata": {},
     "output_type": "execute_result"
    }
   ],
   "source": [
    "test8(\"ranjeth\", \"kumar\", \"reddy\")"
   ]
  },
  {
   "cell_type": "code",
   "execution_count": 89,
   "id": "4b5257da-e740-4e7d-8a99-d3025f1cecf2",
   "metadata": {},
   "outputs": [],
   "source": [
    "@test6\n",
    "def test9(**kwargs):\n",
    "    return kwargs"
   ]
  },
  {
   "cell_type": "code",
   "execution_count": 90,
   "id": "e2cec92b-9560-41fa-a572-d6130fc93db7",
   "metadata": {},
   "outputs": [
    {
     "name": "stdout",
     "output_type": "stream",
     "text": [
      "{'a': 89, 'b': 86}\n",
      "this is my decorator function\n"
     ]
    },
    {
     "data": {
      "text/plain": [
       "{'a': 89, 'b': 86}"
      ]
     },
     "execution_count": 90,
     "metadata": {},
     "output_type": "execute_result"
    }
   ],
   "source": [
    "test9(a=89, b=86)"
   ]
  },
  {
   "cell_type": "code",
   "execution_count": 91,
   "id": "f6b99830-4433-4344-b315-2973025b68d0",
   "metadata": {},
   "outputs": [
    {
     "data": {
      "text/plain": [
       "<function __main__.<lambda>(a, b)>"
      ]
     },
     "execution_count": 91,
     "metadata": {},
     "output_type": "execute_result"
    }
   ],
   "source": [
    "lambda a,b: a+b"
   ]
  },
  {
   "cell_type": "code",
   "execution_count": 92,
   "id": "d2c79923-97de-46b1-b8c5-1e8dd8c2bb4a",
   "metadata": {},
   "outputs": [],
   "source": [
    "def test10(a,b):\n",
    "    return a+b"
   ]
  },
  {
   "cell_type": "code",
   "execution_count": 93,
   "id": "b8461969-7d7a-4246-bca1-833d7b3a6980",
   "metadata": {},
   "outputs": [
    {
     "data": {
      "text/plain": [
       "17"
      ]
     },
     "execution_count": 93,
     "metadata": {},
     "output_type": "execute_result"
    }
   ],
   "source": [
    "test10(9,8)"
   ]
  },
  {
   "cell_type": "code",
   "execution_count": 95,
   "id": "cbb1bafe-b28c-413c-ab07-9caf4ee6d365",
   "metadata": {},
   "outputs": [
    {
     "data": {
      "text/plain": [
       "<function __main__.<lambda>(a, b)>"
      ]
     },
     "execution_count": 95,
     "metadata": {},
     "output_type": "execute_result"
    }
   ],
   "source": [
    "lambda a,b: a+b"
   ]
  },
  {
   "cell_type": "code",
   "execution_count": 94,
   "id": "63f7ddad-f6c0-428f-9669-213fe48d0099",
   "metadata": {},
   "outputs": [
    {
     "data": {
      "text/plain": [
       "<function __main__.test10(a, b)>"
      ]
     },
     "execution_count": 94,
     "metadata": {},
     "output_type": "execute_result"
    }
   ],
   "source": [
    "test10"
   ]
  },
  {
   "cell_type": "code",
   "execution_count": 99,
   "id": "82c9ca3b-2278-4e5e-ad91-dda00ba9e222",
   "metadata": {},
   "outputs": [],
   "source": [
    "c = lambda a , b : a + b"
   ]
  },
  {
   "cell_type": "code",
   "execution_count": 100,
   "id": "315ff0be-153a-4b43-b048-4022ac938c6e",
   "metadata": {},
   "outputs": [
    {
     "data": {
      "text/plain": [
       "<function __main__.<lambda>(a, b)>"
      ]
     },
     "execution_count": 100,
     "metadata": {},
     "output_type": "execute_result"
    }
   ],
   "source": [
    "c"
   ]
  },
  {
   "cell_type": "code",
   "execution_count": 101,
   "id": "fd855fb7-5650-4bc6-a019-a02e417aa248",
   "metadata": {},
   "outputs": [
    {
     "data": {
      "text/plain": [
       "'ranjethkumar'"
      ]
     },
     "execution_count": 101,
     "metadata": {},
     "output_type": "execute_result"
    }
   ],
   "source": [
    "c(\"ranjeth\" , \"kumar\")"
   ]
  },
  {
   "cell_type": "code",
   "execution_count": 102,
   "id": "ea55abc1-3e3c-417a-b3da-0ac29d97c4ca",
   "metadata": {},
   "outputs": [],
   "source": [
    "d = lambda a , b , c, d : a+b*c/d"
   ]
  },
  {
   "cell_type": "code",
   "execution_count": 103,
   "id": "645c01d1-64e1-4105-9158-07efc8e6d4da",
   "metadata": {},
   "outputs": [
    {
     "data": {
      "text/plain": [
       "6.666666666666667"
      ]
     },
     "execution_count": 103,
     "metadata": {},
     "output_type": "execute_result"
    }
   ],
   "source": [
    "d(2,4,7,6)"
   ]
  },
  {
   "cell_type": "code",
   "execution_count": 112,
   "id": "72607f5b-9dc9-4f7e-895c-0ff406cd20a2",
   "metadata": {},
   "outputs": [],
   "source": [
    "e = lambda *args : sum(args)"
   ]
  },
  {
   "cell_type": "code",
   "execution_count": 113,
   "id": "5d792e38-163e-493b-b6bf-a4f3c45f5993",
   "metadata": {},
   "outputs": [
    {
     "data": {
      "text/plain": [
       "0"
      ]
     },
     "execution_count": 113,
     "metadata": {},
     "output_type": "execute_result"
    }
   ],
   "source": [
    "e()"
   ]
  },
  {
   "cell_type": "code",
   "execution_count": 114,
   "id": "a6874ffe-e232-490b-bf96-04c61e56bd3f",
   "metadata": {},
   "outputs": [
    {
     "data": {
      "text/plain": [
       "13"
      ]
     },
     "execution_count": 114,
     "metadata": {},
     "output_type": "execute_result"
    }
   ],
   "source": [
    "e(4,4,5)"
   ]
  },
  {
   "cell_type": "code",
   "execution_count": 115,
   "id": "14fb8453-93af-4094-91a7-c427495b83d6",
   "metadata": {},
   "outputs": [],
   "source": [
    "# map function"
   ]
  },
  {
   "cell_type": "code",
   "execution_count": 121,
   "id": "f2dbf186-1213-4b11-9a67-6725053b8aca",
   "metadata": {},
   "outputs": [],
   "source": [
    "l = [1,3,4,5,6,7,8]"
   ]
  },
  {
   "cell_type": "code",
   "execution_count": 122,
   "id": "182d3529-d59c-4a4e-b22f-48cc47038f96",
   "metadata": {},
   "outputs": [],
   "source": [
    "l1 = []\n",
    "for i in l:\n",
    "    l1.append(i+10)\n",
    "    "
   ]
  },
  {
   "cell_type": "code",
   "execution_count": 123,
   "id": "d1e63dcc-9c20-465c-b3f1-58ce64bc3840",
   "metadata": {},
   "outputs": [
    {
     "data": {
      "text/plain": [
       "[11, 13, 14, 15, 16, 17, 18]"
      ]
     },
     "execution_count": 123,
     "metadata": {},
     "output_type": "execute_result"
    }
   ],
   "source": [
    "l1"
   ]
  },
  {
   "cell_type": "code",
   "execution_count": 124,
   "id": "38b63d45-a436-48c6-ba72-8861f2caf308",
   "metadata": {},
   "outputs": [],
   "source": [
    "def test14(a):\n",
    "    return a + 10"
   ]
  },
  {
   "cell_type": "code",
   "execution_count": 126,
   "id": "976bcef7-ad2d-48ff-9bf1-8361c3c102a1",
   "metadata": {},
   "outputs": [
    {
     "data": {
      "text/plain": [
       "<map at 0x7f9d7854afb0>"
      ]
     },
     "execution_count": 126,
     "metadata": {},
     "output_type": "execute_result"
    }
   ],
   "source": [
    "map(test14 , l)"
   ]
  },
  {
   "cell_type": "code",
   "execution_count": 127,
   "id": "fb9c00b5-4ec9-4e0b-a480-7751b1368597",
   "metadata": {},
   "outputs": [
    {
     "data": {
      "text/plain": [
       "[11, 13, 14, 15, 16, 17, 18]"
      ]
     },
     "execution_count": 127,
     "metadata": {},
     "output_type": "execute_result"
    }
   ],
   "source": [
    "list(map(test14 , l))"
   ]
  },
  {
   "cell_type": "code",
   "execution_count": 128,
   "id": "81bae49c-4ac8-435f-84fd-c32722b70f6a",
   "metadata": {},
   "outputs": [
    {
     "data": {
      "text/plain": [
       "[11, 13, 14, 15, 16, 17, 18]"
      ]
     },
     "execution_count": 128,
     "metadata": {},
     "output_type": "execute_result"
    }
   ],
   "source": [
    "list(map(lambda a : a + 10 , l))"
   ]
  },
  {
   "cell_type": "code",
   "execution_count": 129,
   "id": "9bc69a69-a620-4fee-a84d-6d0890b2540f",
   "metadata": {},
   "outputs": [],
   "source": [
    "n = lambda a : a + 10"
   ]
  },
  {
   "cell_type": "code",
   "execution_count": 130,
   "id": "db8068d8-afe8-4a72-826a-f68176e96076",
   "metadata": {},
   "outputs": [
    {
     "data": {
      "text/plain": [
       "[11, 13, 14, 15, 16, 17, 18]"
      ]
     },
     "execution_count": 130,
     "metadata": {},
     "output_type": "execute_result"
    }
   ],
   "source": [
    "list(map(n , l))"
   ]
  },
  {
   "cell_type": "code",
   "execution_count": 131,
   "id": "6e131567-ed6b-488d-8d96-8a97e58dde7e",
   "metadata": {},
   "outputs": [],
   "source": [
    "l = [\"ranjeth\" , \"kumar\" , \"reddy\"]"
   ]
  },
  {
   "cell_type": "code",
   "execution_count": 132,
   "id": "33c30de4-7744-4330-806e-95b0d1836a49",
   "metadata": {},
   "outputs": [],
   "source": [
    "l1 = []\n",
    "for i in l:\n",
    "    l1.append(i.upper())"
   ]
  },
  {
   "cell_type": "code",
   "execution_count": 133,
   "id": "9c2fa765-ca70-4a1e-bc53-b64f20c3f96d",
   "metadata": {},
   "outputs": [
    {
     "data": {
      "text/plain": [
       "['RANJETH', 'KUMAR', 'REDDY']"
      ]
     },
     "execution_count": 133,
     "metadata": {},
     "output_type": "execute_result"
    }
   ],
   "source": [
    "l1"
   ]
  },
  {
   "cell_type": "code",
   "execution_count": 134,
   "id": "1598bfb8-671f-4957-82e1-a3a6433a8ec6",
   "metadata": {},
   "outputs": [
    {
     "data": {
      "text/plain": [
       "['RANJETH', 'KUMAR', 'REDDY']"
      ]
     },
     "execution_count": 134,
     "metadata": {},
     "output_type": "execute_result"
    }
   ],
   "source": [
    "list(map(lambda a : a.upper(), l))"
   ]
  },
  {
   "cell_type": "code",
   "execution_count": 135,
   "id": "77ef6d75-6691-439b-8786-050316463974",
   "metadata": {},
   "outputs": [
    {
     "data": {
      "text/plain": [
       "['RANJETH', 'KUMAR', 'REDDY']"
      ]
     },
     "execution_count": 135,
     "metadata": {},
     "output_type": "execute_result"
    }
   ],
   "source": [
    "list(map(str.upper , l))"
   ]
  },
  {
   "cell_type": "code",
   "execution_count": 136,
   "id": "121e20a9-21c0-466e-9d34-d141639a1c42",
   "metadata": {},
   "outputs": [],
   "source": [
    "def upper_string(a):\n",
    "    return a.upper()\n"
   ]
  },
  {
   "cell_type": "code",
   "execution_count": 140,
   "id": "89a883d9-e262-4fb1-ab56-50a934631ec7",
   "metadata": {},
   "outputs": [
    {
     "data": {
      "text/plain": [
       "['RANJETH', 'KUMAR', 'REDDY']"
      ]
     },
     "execution_count": 140,
     "metadata": {},
     "output_type": "execute_result"
    }
   ],
   "source": [
    "list(map(upper_string,l))"
   ]
  },
  {
   "cell_type": "code",
   "execution_count": 141,
   "id": "57bdcdca-8c8d-4d51-9ad8-7a3df3d03b51",
   "metadata": {},
   "outputs": [
    {
     "data": {
      "text/plain": [
       "['ranjeth', 'kumar', 'reddy']"
      ]
     },
     "execution_count": 141,
     "metadata": {},
     "output_type": "execute_result"
    }
   ],
   "source": [
    "l"
   ]
  },
  {
   "cell_type": "code",
   "execution_count": 142,
   "id": "0f442b69-db85-4a57-8a71-2334ce079a97",
   "metadata": {},
   "outputs": [
    {
     "data": {
      "text/plain": [
       "[7, 5, 5]"
      ]
     },
     "execution_count": 142,
     "metadata": {},
     "output_type": "execute_result"
    }
   ],
   "source": [
    "list(map(len,l))"
   ]
  },
  {
   "cell_type": "code",
   "execution_count": 143,
   "id": "1081ed6a-2803-4d43-904c-9f76cd1b7c00",
   "metadata": {},
   "outputs": [
    {
     "data": {
      "text/plain": [
       "[7, 5, 5]"
      ]
     },
     "execution_count": 143,
     "metadata": {},
     "output_type": "execute_result"
    }
   ],
   "source": [
    "list(map(lambda a : len(a), l))"
   ]
  },
  {
   "cell_type": "code",
   "execution_count": 144,
   "id": "233786eb-113f-43f9-b97d-aa10b3a6bec4",
   "metadata": {},
   "outputs": [],
   "source": [
    "def test12(a):\n",
    "    return len(a)"
   ]
  },
  {
   "cell_type": "code",
   "execution_count": 145,
   "id": "25725ee7-c334-4510-81e8-5bfcb454bb84",
   "metadata": {},
   "outputs": [
    {
     "data": {
      "text/plain": [
       "[7, 5, 5]"
      ]
     },
     "execution_count": 145,
     "metadata": {},
     "output_type": "execute_result"
    }
   ],
   "source": [
    "list(map(test12,l))"
   ]
  },
  {
   "cell_type": "code",
   "execution_count": 146,
   "id": "44b748ca-9c5a-4c14-a8a6-d76644bc4752",
   "metadata": {},
   "outputs": [],
   "source": [
    "l = [1,2,3,4,5,6,7,8]"
   ]
  },
  {
   "cell_type": "code",
   "execution_count": 147,
   "id": "e7874583-1c8a-493b-91b9-a8465796b46f",
   "metadata": {},
   "outputs": [],
   "source": [
    "l1 = []\n",
    "for i in l:\n",
    "    if i%2 == 0:\n",
    "        l1.append(i)"
   ]
  },
  {
   "cell_type": "code",
   "execution_count": 148,
   "id": "e791287c-41ad-4c3b-b406-bace0d2bc03c",
   "metadata": {},
   "outputs": [
    {
     "data": {
      "text/plain": [
       "[2, 4, 6, 8]"
      ]
     },
     "execution_count": 148,
     "metadata": {},
     "output_type": "execute_result"
    }
   ],
   "source": [
    "l1"
   ]
  },
  {
   "cell_type": "code",
   "execution_count": 150,
   "id": "9e275b92-9427-42fd-9f3c-a48163f62356",
   "metadata": {},
   "outputs": [
    {
     "data": {
      "text/plain": [
       "[2, 4, 6, 8]"
      ]
     },
     "execution_count": 150,
     "metadata": {},
     "output_type": "execute_result"
    }
   ],
   "source": [
    "[i for i in l if i%2 == 0]"
   ]
  },
  {
   "cell_type": "code",
   "execution_count": 151,
   "id": "473159be-f1b2-4251-a0e8-1129c71979ae",
   "metadata": {},
   "outputs": [],
   "source": [
    "def test13(a):\n",
    "    l = []\n",
    "    if type(a) == list:\n",
    "        for i in a:\n",
    "            if i%2 == 0:\n",
    "                l.append(i)\n",
    "    return l"
   ]
  },
  {
   "cell_type": "code",
   "execution_count": 152,
   "id": "d5fca4f2-e8c5-4bad-9260-3c17a7bb2853",
   "metadata": {},
   "outputs": [
    {
     "data": {
      "text/plain": [
       "[2, 4, 6, 8]"
      ]
     },
     "execution_count": 152,
     "metadata": {},
     "output_type": "execute_result"
    }
   ],
   "source": [
    "test13(l)"
   ]
  },
  {
   "cell_type": "code",
   "execution_count": 154,
   "id": "f3ad07ea-9c0a-4660-8f79-571eea62a402",
   "metadata": {},
   "outputs": [
    {
     "data": {
      "text/plain": [
       "[[], [], [], [], [], [], [], []]"
      ]
     },
     "execution_count": 154,
     "metadata": {},
     "output_type": "execute_result"
    }
   ],
   "source": [
    "list(map(test13,l)) # it will not work for filter "
   ]
  },
  {
   "cell_type": "code",
   "execution_count": 162,
   "id": "e1d2b58a-65f5-44ed-bcf9-03f725477402",
   "metadata": {},
   "outputs": [
    {
     "ename": "SyntaxError",
     "evalue": "invalid syntax (820918860.py, line 1)",
     "output_type": "error",
     "traceback": [
      "\u001b[0;36m  Cell \u001b[0;32mIn [162], line 1\u001b[0;36m\u001b[0m\n\u001b[0;31m    a = lambda a : a if a % 2 == 0 else\u001b[0m\n\u001b[0m                                        ^\u001b[0m\n\u001b[0;31mSyntaxError\u001b[0m\u001b[0;31m:\u001b[0m invalid syntax\n"
     ]
    }
   ],
   "source": [
    "a = lambda a : a if a % 2 == 0 else none"
   ]
  },
  {
   "cell_type": "code",
   "execution_count": 158,
   "id": "f8f4f671-6edf-4a31-91c2-b16e4518adc6",
   "metadata": {},
   "outputs": [
    {
     "ename": "NameError",
     "evalue": "name 'none' is not defined",
     "output_type": "error",
     "traceback": [
      "\u001b[0;31m---------------------------------------------------------------------------\u001b[0m",
      "\u001b[0;31mNameError\u001b[0m                                 Traceback (most recent call last)",
      "Cell \u001b[0;32mIn [158], line 1\u001b[0m\n\u001b[0;32m----> 1\u001b[0m \u001b[38;5;28;43mlist\u001b[39;49m\u001b[43m(\u001b[49m\u001b[38;5;28;43mfilter\u001b[39;49m\u001b[43m(\u001b[49m\u001b[43ma\u001b[49m\u001b[43m \u001b[49m\u001b[43m,\u001b[49m\u001b[43m \u001b[49m\u001b[43ml\u001b[49m\u001b[43m)\u001b[49m\u001b[43m)\u001b[49m\n",
      "Cell \u001b[0;32mIn [157], line 1\u001b[0m, in \u001b[0;36m<lambda>\u001b[0;34m(a)\u001b[0m\n\u001b[0;32m----> 1\u001b[0m a \u001b[38;5;241m=\u001b[39m \u001b[38;5;28;01mlambda\u001b[39;00m a : a \u001b[38;5;28;01mif\u001b[39;00m a \u001b[38;5;241m%\u001b[39m \u001b[38;5;241m2\u001b[39m \u001b[38;5;241m==\u001b[39m \u001b[38;5;241m0\u001b[39m \u001b[38;5;28;01melse\u001b[39;00m \u001b[43mnone\u001b[49m\n",
      "\u001b[0;31mNameError\u001b[0m: name 'none' is not defined"
     ]
    }
   ],
   "source": [
    "list(filter(a , l))"
   ]
  },
  {
   "cell_type": "code",
   "execution_count": 159,
   "id": "ef673898-4db4-4c47-80b6-1e4d8eb7e1f5",
   "metadata": {},
   "outputs": [],
   "source": [
    "def test14(a):\n",
    "    if a%2 ==0:\n",
    "        return True\n",
    "    else:\n",
    "        return False"
   ]
  },
  {
   "cell_type": "code",
   "execution_count": 160,
   "id": "0a2f23c1-7522-431d-829e-83bf6615273d",
   "metadata": {},
   "outputs": [
    {
     "data": {
      "text/plain": [
       "True"
      ]
     },
     "execution_count": 160,
     "metadata": {},
     "output_type": "execute_result"
    }
   ],
   "source": [
    "test14(8)"
   ]
  },
  {
   "cell_type": "code",
   "execution_count": 161,
   "id": "09096784-2866-47fb-a332-ccc51abc5552",
   "metadata": {},
   "outputs": [
    {
     "data": {
      "text/plain": [
       "[2, 4, 6, 8]"
      ]
     },
     "execution_count": 161,
     "metadata": {},
     "output_type": "execute_result"
    }
   ],
   "source": [
    "list(filter(test14, l))"
   ]
  },
  {
   "cell_type": "code",
   "execution_count": 163,
   "id": "1193a14e-2238-4149-a94b-a1afa0643759",
   "metadata": {},
   "outputs": [
    {
     "data": {
      "text/plain": [
       "36"
      ]
     },
     "execution_count": 163,
     "metadata": {},
     "output_type": "execute_result"
    }
   ],
   "source": [
    "sum(l)"
   ]
  },
  {
   "cell_type": "code",
   "execution_count": 164,
   "id": "3827f15b-911a-49d5-811a-2dc9b6deb706",
   "metadata": {},
   "outputs": [],
   "source": [
    "# Reduce functions\n"
   ]
  },
  {
   "cell_type": "code",
   "execution_count": 165,
   "id": "8140bcff-8e20-4709-8a1a-32b564f31c01",
   "metadata": {},
   "outputs": [],
   "source": [
    "from functools import reduce"
   ]
  },
  {
   "cell_type": "code",
   "execution_count": 166,
   "id": "36b257b0-c4fc-487d-ac21-47d6eb9d74c8",
   "metadata": {},
   "outputs": [
    {
     "data": {
      "text/plain": [
       "40320"
      ]
     },
     "execution_count": 166,
     "metadata": {},
     "output_type": "execute_result"
    }
   ],
   "source": [
    "reduce(lambda a,b : a*b, l)"
   ]
  },
  {
   "cell_type": "code",
   "execution_count": 167,
   "id": "0c04989e-0754-4b22-adec-fb60ff52c311",
   "metadata": {},
   "outputs": [
    {
     "ename": "TypeError",
     "evalue": "<lambda>() missing 1 required positional argument: 'c'",
     "output_type": "error",
     "traceback": [
      "\u001b[0;31m---------------------------------------------------------------------------\u001b[0m",
      "\u001b[0;31mTypeError\u001b[0m                                 Traceback (most recent call last)",
      "Cell \u001b[0;32mIn [167], line 1\u001b[0m\n\u001b[0;32m----> 1\u001b[0m \u001b[43mreduce\u001b[49m\u001b[43m(\u001b[49m\u001b[38;5;28;43;01mlambda\u001b[39;49;00m\u001b[43m \u001b[49m\u001b[43ma\u001b[49m\u001b[43m,\u001b[49m\u001b[43mb\u001b[49m\u001b[43m,\u001b[49m\u001b[43mc\u001b[49m\u001b[43m \u001b[49m\u001b[43m:\u001b[49m\u001b[43m \u001b[49m\u001b[43ma\u001b[49m\u001b[38;5;241;43m*\u001b[39;49m\u001b[43mb\u001b[49m\u001b[38;5;241;43m*\u001b[39;49m\u001b[43mc\u001b[49m\u001b[43m \u001b[49m\u001b[43m,\u001b[49m\u001b[43m \u001b[49m\u001b[43ml\u001b[49m\u001b[43m)\u001b[49m\n",
      "\u001b[0;31mTypeError\u001b[0m: <lambda>() missing 1 required positional argument: 'c'"
     ]
    }
   ],
   "source": [
    "reduce(lambda a,b,c : a*b*c , l)"
   ]
  },
  {
   "cell_type": "code",
   "execution_count": 168,
   "id": "8a7f12c9-a025-48a6-8daf-bf98fef5691f",
   "metadata": {},
   "outputs": [
    {
     "data": {
      "text/plain": [
       "3"
      ]
     },
     "execution_count": 168,
     "metadata": {},
     "output_type": "execute_result"
    }
   ],
   "source": [
    "l1 = [3]\n",
    "reduce(lambda a , b : a * b, l1)"
   ]
  },
  {
   "cell_type": "code",
   "execution_count": 173,
   "id": "3a58318a-bc23-476c-bf85-fd92213ab146",
   "metadata": {},
   "outputs": [],
   "source": [
    "def test14(a : int , b) -> int:\n",
    "    ''' this is my doc string to give a hint to next programmer'''\n",
    "    return a + b"
   ]
  },
  {
   "cell_type": "code",
   "execution_count": 175,
   "id": "7c512ab6-c030-4ffb-a81c-6b9a0ab5f4d7",
   "metadata": {},
   "outputs": [
    {
     "data": {
      "text/plain": [
       "'ranjetkuamr'"
      ]
     },
     "execution_count": 175,
     "metadata": {},
     "output_type": "execute_result"
    }
   ],
   "source": [
    "test14(\"ranjet\" , \"kuamr\")"
   ]
  },
  {
   "cell_type": "code",
   "execution_count": null,
   "id": "463af190-b0c5-42d3-9557-a99bbfbbc8f3",
   "metadata": {},
   "outputs": [],
   "source": []
  }
 ],
 "metadata": {
  "kernelspec": {
   "display_name": "Python 3 (ipykernel)",
   "language": "python",
   "name": "python3"
  },
  "language_info": {
   "codemirror_mode": {
    "name": "ipython",
    "version": 3
   },
   "file_extension": ".py",
   "mimetype": "text/x-python",
   "name": "python",
   "nbconvert_exporter": "python",
   "pygments_lexer": "ipython3",
   "version": "3.10.6"
  }
 },
 "nbformat": 4,
 "nbformat_minor": 5
}
